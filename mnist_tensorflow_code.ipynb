{
  "nbformat": 4,
  "nbformat_minor": 0,
  "metadata": {
    "colab": {
      "provenance": [],
      "authorship_tag": "ABX9TyNsVlz3CEyFutRJn5XNlOkq",
      "include_colab_link": true
    },
    "kernelspec": {
      "name": "python3",
      "display_name": "Python 3"
    },
    "language_info": {
      "name": "python"
    },
    "accelerator": "GPU",
    "gpuClass": "standard",
    "widgets": {
      "application/vnd.jupyter.widget-state+json": {
        "cd1f943ea47c4d50a32b7f53fedc8a16": {
          "model_module": "@jupyter-widgets/controls",
          "model_name": "HBoxModel",
          "model_module_version": "1.5.0",
          "state": {
            "_dom_classes": [],
            "_model_module": "@jupyter-widgets/controls",
            "_model_module_version": "1.5.0",
            "_model_name": "HBoxModel",
            "_view_count": null,
            "_view_module": "@jupyter-widgets/controls",
            "_view_module_version": "1.5.0",
            "_view_name": "HBoxView",
            "box_style": "",
            "children": [
              "IPY_MODEL_533e942867a14bc1bc779ac7bd779b28",
              "IPY_MODEL_29e76e041b5c462f948298ca6580a66b",
              "IPY_MODEL_d784934253914622955b0bc9140fc526"
            ],
            "layout": "IPY_MODEL_a188e057ace042a3a45c8b86202ce0cc"
          }
        },
        "533e942867a14bc1bc779ac7bd779b28": {
          "model_module": "@jupyter-widgets/controls",
          "model_name": "HTMLModel",
          "model_module_version": "1.5.0",
          "state": {
            "_dom_classes": [],
            "_model_module": "@jupyter-widgets/controls",
            "_model_module_version": "1.5.0",
            "_model_name": "HTMLModel",
            "_view_count": null,
            "_view_module": "@jupyter-widgets/controls",
            "_view_module_version": "1.5.0",
            "_view_name": "HTMLView",
            "description": "",
            "description_tooltip": null,
            "layout": "IPY_MODEL_bde5e0ab1d31441789df988f94de1f26",
            "placeholder": "​",
            "style": "IPY_MODEL_fb78848ec6b34c7abcb74de1ba3a0670",
            "value": "Dl Completed...: 100%"
          }
        },
        "29e76e041b5c462f948298ca6580a66b": {
          "model_module": "@jupyter-widgets/controls",
          "model_name": "FloatProgressModel",
          "model_module_version": "1.5.0",
          "state": {
            "_dom_classes": [],
            "_model_module": "@jupyter-widgets/controls",
            "_model_module_version": "1.5.0",
            "_model_name": "FloatProgressModel",
            "_view_count": null,
            "_view_module": "@jupyter-widgets/controls",
            "_view_module_version": "1.5.0",
            "_view_name": "ProgressView",
            "bar_style": "success",
            "description": "",
            "description_tooltip": null,
            "layout": "IPY_MODEL_a4272be54e834ba79c3d7b1026bebf10",
            "max": 5,
            "min": 0,
            "orientation": "horizontal",
            "style": "IPY_MODEL_58ac4c4633854b6f86dc61c6c4352127",
            "value": 5
          }
        },
        "d784934253914622955b0bc9140fc526": {
          "model_module": "@jupyter-widgets/controls",
          "model_name": "HTMLModel",
          "model_module_version": "1.5.0",
          "state": {
            "_dom_classes": [],
            "_model_module": "@jupyter-widgets/controls",
            "_model_module_version": "1.5.0",
            "_model_name": "HTMLModel",
            "_view_count": null,
            "_view_module": "@jupyter-widgets/controls",
            "_view_module_version": "1.5.0",
            "_view_name": "HTMLView",
            "description": "",
            "description_tooltip": null,
            "layout": "IPY_MODEL_5c02cedb8b0e479780a85960b3c549db",
            "placeholder": "​",
            "style": "IPY_MODEL_41606e0aa5c04982918514f944e98694",
            "value": " 5/5 [00:01&lt;00:00,  2.78 file/s]"
          }
        },
        "a188e057ace042a3a45c8b86202ce0cc": {
          "model_module": "@jupyter-widgets/base",
          "model_name": "LayoutModel",
          "model_module_version": "1.2.0",
          "state": {
            "_model_module": "@jupyter-widgets/base",
            "_model_module_version": "1.2.0",
            "_model_name": "LayoutModel",
            "_view_count": null,
            "_view_module": "@jupyter-widgets/base",
            "_view_module_version": "1.2.0",
            "_view_name": "LayoutView",
            "align_content": null,
            "align_items": null,
            "align_self": null,
            "border": null,
            "bottom": null,
            "display": null,
            "flex": null,
            "flex_flow": null,
            "grid_area": null,
            "grid_auto_columns": null,
            "grid_auto_flow": null,
            "grid_auto_rows": null,
            "grid_column": null,
            "grid_gap": null,
            "grid_row": null,
            "grid_template_areas": null,
            "grid_template_columns": null,
            "grid_template_rows": null,
            "height": null,
            "justify_content": null,
            "justify_items": null,
            "left": null,
            "margin": null,
            "max_height": null,
            "max_width": null,
            "min_height": null,
            "min_width": null,
            "object_fit": null,
            "object_position": null,
            "order": null,
            "overflow": null,
            "overflow_x": null,
            "overflow_y": null,
            "padding": null,
            "right": null,
            "top": null,
            "visibility": null,
            "width": null
          }
        },
        "bde5e0ab1d31441789df988f94de1f26": {
          "model_module": "@jupyter-widgets/base",
          "model_name": "LayoutModel",
          "model_module_version": "1.2.0",
          "state": {
            "_model_module": "@jupyter-widgets/base",
            "_model_module_version": "1.2.0",
            "_model_name": "LayoutModel",
            "_view_count": null,
            "_view_module": "@jupyter-widgets/base",
            "_view_module_version": "1.2.0",
            "_view_name": "LayoutView",
            "align_content": null,
            "align_items": null,
            "align_self": null,
            "border": null,
            "bottom": null,
            "display": null,
            "flex": null,
            "flex_flow": null,
            "grid_area": null,
            "grid_auto_columns": null,
            "grid_auto_flow": null,
            "grid_auto_rows": null,
            "grid_column": null,
            "grid_gap": null,
            "grid_row": null,
            "grid_template_areas": null,
            "grid_template_columns": null,
            "grid_template_rows": null,
            "height": null,
            "justify_content": null,
            "justify_items": null,
            "left": null,
            "margin": null,
            "max_height": null,
            "max_width": null,
            "min_height": null,
            "min_width": null,
            "object_fit": null,
            "object_position": null,
            "order": null,
            "overflow": null,
            "overflow_x": null,
            "overflow_y": null,
            "padding": null,
            "right": null,
            "top": null,
            "visibility": null,
            "width": null
          }
        },
        "fb78848ec6b34c7abcb74de1ba3a0670": {
          "model_module": "@jupyter-widgets/controls",
          "model_name": "DescriptionStyleModel",
          "model_module_version": "1.5.0",
          "state": {
            "_model_module": "@jupyter-widgets/controls",
            "_model_module_version": "1.5.0",
            "_model_name": "DescriptionStyleModel",
            "_view_count": null,
            "_view_module": "@jupyter-widgets/base",
            "_view_module_version": "1.2.0",
            "_view_name": "StyleView",
            "description_width": ""
          }
        },
        "a4272be54e834ba79c3d7b1026bebf10": {
          "model_module": "@jupyter-widgets/base",
          "model_name": "LayoutModel",
          "model_module_version": "1.2.0",
          "state": {
            "_model_module": "@jupyter-widgets/base",
            "_model_module_version": "1.2.0",
            "_model_name": "LayoutModel",
            "_view_count": null,
            "_view_module": "@jupyter-widgets/base",
            "_view_module_version": "1.2.0",
            "_view_name": "LayoutView",
            "align_content": null,
            "align_items": null,
            "align_self": null,
            "border": null,
            "bottom": null,
            "display": null,
            "flex": null,
            "flex_flow": null,
            "grid_area": null,
            "grid_auto_columns": null,
            "grid_auto_flow": null,
            "grid_auto_rows": null,
            "grid_column": null,
            "grid_gap": null,
            "grid_row": null,
            "grid_template_areas": null,
            "grid_template_columns": null,
            "grid_template_rows": null,
            "height": null,
            "justify_content": null,
            "justify_items": null,
            "left": null,
            "margin": null,
            "max_height": null,
            "max_width": null,
            "min_height": null,
            "min_width": null,
            "object_fit": null,
            "object_position": null,
            "order": null,
            "overflow": null,
            "overflow_x": null,
            "overflow_y": null,
            "padding": null,
            "right": null,
            "top": null,
            "visibility": null,
            "width": null
          }
        },
        "58ac4c4633854b6f86dc61c6c4352127": {
          "model_module": "@jupyter-widgets/controls",
          "model_name": "ProgressStyleModel",
          "model_module_version": "1.5.0",
          "state": {
            "_model_module": "@jupyter-widgets/controls",
            "_model_module_version": "1.5.0",
            "_model_name": "ProgressStyleModel",
            "_view_count": null,
            "_view_module": "@jupyter-widgets/base",
            "_view_module_version": "1.2.0",
            "_view_name": "StyleView",
            "bar_color": null,
            "description_width": ""
          }
        },
        "5c02cedb8b0e479780a85960b3c549db": {
          "model_module": "@jupyter-widgets/base",
          "model_name": "LayoutModel",
          "model_module_version": "1.2.0",
          "state": {
            "_model_module": "@jupyter-widgets/base",
            "_model_module_version": "1.2.0",
            "_model_name": "LayoutModel",
            "_view_count": null,
            "_view_module": "@jupyter-widgets/base",
            "_view_module_version": "1.2.0",
            "_view_name": "LayoutView",
            "align_content": null,
            "align_items": null,
            "align_self": null,
            "border": null,
            "bottom": null,
            "display": null,
            "flex": null,
            "flex_flow": null,
            "grid_area": null,
            "grid_auto_columns": null,
            "grid_auto_flow": null,
            "grid_auto_rows": null,
            "grid_column": null,
            "grid_gap": null,
            "grid_row": null,
            "grid_template_areas": null,
            "grid_template_columns": null,
            "grid_template_rows": null,
            "height": null,
            "justify_content": null,
            "justify_items": null,
            "left": null,
            "margin": null,
            "max_height": null,
            "max_width": null,
            "min_height": null,
            "min_width": null,
            "object_fit": null,
            "object_position": null,
            "order": null,
            "overflow": null,
            "overflow_x": null,
            "overflow_y": null,
            "padding": null,
            "right": null,
            "top": null,
            "visibility": null,
            "width": null
          }
        },
        "41606e0aa5c04982918514f944e98694": {
          "model_module": "@jupyter-widgets/controls",
          "model_name": "DescriptionStyleModel",
          "model_module_version": "1.5.0",
          "state": {
            "_model_module": "@jupyter-widgets/controls",
            "_model_module_version": "1.5.0",
            "_model_name": "DescriptionStyleModel",
            "_view_count": null,
            "_view_module": "@jupyter-widgets/base",
            "_view_module_version": "1.2.0",
            "_view_name": "StyleView",
            "description_width": ""
          }
        }
      }
    }
  },
  "cells": [
    {
      "cell_type": "markdown",
      "metadata": {
        "id": "view-in-github",
        "colab_type": "text"
      },
      "source": [
        "<a href=\"https://colab.research.google.com/github/Duks31/google-colab-code/blob/main/mnist_tensorflow_code.ipynb\" target=\"_parent\"><img src=\"https://colab.research.google.com/assets/colab-badge.svg\" alt=\"Open In Colab\"/></a>"
      ]
    },
    {
      "cell_type": "code",
      "source": [
        "!pip install tensorflow-addons"
      ],
      "metadata": {
        "colab": {
          "base_uri": "https://localhost:8080/"
        },
        "id": "2Krnx_N9o5QG",
        "outputId": "692f3f43-1f76-426c-afdb-6e9c70d8371e"
      },
      "execution_count": 2,
      "outputs": [
        {
          "output_type": "stream",
          "name": "stdout",
          "text": [
            "Looking in indexes: https://pypi.org/simple, https://us-python.pkg.dev/colab-wheels/public/simple/\n",
            "Collecting tensorflow-addons\n",
            "  Downloading tensorflow_addons-0.19.0-cp38-cp38-manylinux_2_17_x86_64.manylinux2014_x86_64.whl (1.1 MB)\n",
            "\u001b[2K     \u001b[90m━━━━━━━━━━━━━━━━━━━━━━━━━━━━━━━━━━━━━━━━\u001b[0m \u001b[32m1.1/1.1 MB\u001b[0m \u001b[31m32.4 MB/s\u001b[0m eta \u001b[36m0:00:00\u001b[0m\n",
            "\u001b[?25hRequirement already satisfied: packaging in /usr/local/lib/python3.8/dist-packages (from tensorflow-addons) (23.0)\n",
            "Requirement already satisfied: typeguard>=2.7 in /usr/local/lib/python3.8/dist-packages (from tensorflow-addons) (2.7.1)\n",
            "Installing collected packages: tensorflow-addons\n",
            "Successfully installed tensorflow-addons-0.19.0\n"
          ]
        }
      ]
    },
    {
      "cell_type": "code",
      "execution_count": 3,
      "metadata": {
        "colab": {
          "base_uri": "https://localhost:8080/",
          "height": 833,
          "referenced_widgets": [
            "cd1f943ea47c4d50a32b7f53fedc8a16",
            "533e942867a14bc1bc779ac7bd779b28",
            "29e76e041b5c462f948298ca6580a66b",
            "d784934253914622955b0bc9140fc526",
            "a188e057ace042a3a45c8b86202ce0cc",
            "bde5e0ab1d31441789df988f94de1f26",
            "fb78848ec6b34c7abcb74de1ba3a0670",
            "a4272be54e834ba79c3d7b1026bebf10",
            "58ac4c4633854b6f86dc61c6c4352127",
            "5c02cedb8b0e479780a85960b3c549db",
            "41606e0aa5c04982918514f944e98694"
          ]
        },
        "id": "MpiILiI2nzG6",
        "outputId": "4b2a2421-7e0f-4e08-aaba-528d0a1c0eb1"
      },
      "outputs": [
        {
          "output_type": "stream",
          "name": "stdout",
          "text": [
            "Downloading and preparing dataset Unknown size (download: Unknown size, generated: Unknown size, total: Unknown size) to /root/tensorflow_datasets/mnist/3.0.1...\n"
          ]
        },
        {
          "output_type": "display_data",
          "data": {
            "text/plain": [
              "Dl Completed...:   0%|          | 0/5 [00:00<?, ? file/s]"
            ],
            "application/vnd.jupyter.widget-view+json": {
              "version_major": 2,
              "version_minor": 0,
              "model_id": "cd1f943ea47c4d50a32b7f53fedc8a16"
            }
          },
          "metadata": {}
        },
        {
          "output_type": "stream",
          "name": "stdout",
          "text": [
            "Dataset mnist downloaded and prepared to /root/tensorflow_datasets/mnist/3.0.1. Subsequent calls will reuse this data.\n",
            "Epoch 1/20\n",
            "1875/1875 - 30s - loss: 0.2846 - accuracy: 0.9213 - 30s/epoch - 16ms/step\n",
            "Epoch 2/20\n",
            "1875/1875 - 13s - loss: 0.0855 - accuracy: 0.9745 - 13s/epoch - 7ms/step\n",
            "Epoch 3/20\n",
            "1875/1875 - 14s - loss: 0.0611 - accuracy: 0.9817 - 14s/epoch - 8ms/step\n",
            "Epoch 4/20\n",
            "1875/1875 - 13s - loss: 0.0501 - accuracy: 0.9851 - 13s/epoch - 7ms/step\n",
            "Epoch 5/20\n",
            "1875/1875 - 13s - loss: 0.0441 - accuracy: 0.9870 - 13s/epoch - 7ms/step\n",
            "Epoch 6/20\n",
            "1875/1875 - 13s - loss: 0.0383 - accuracy: 0.9880 - 13s/epoch - 7ms/step\n",
            "Epoch 7/20\n",
            "1875/1875 - 13s - loss: 0.0364 - accuracy: 0.9888 - 13s/epoch - 7ms/step\n",
            "Epoch 8/20\n",
            "1875/1875 - 13s - loss: 0.0324 - accuracy: 0.9902 - 13s/epoch - 7ms/step\n",
            "Epoch 9/20\n",
            "1875/1875 - 13s - loss: 0.0300 - accuracy: 0.9910 - 13s/epoch - 7ms/step\n",
            "Epoch 10/20\n",
            "1875/1875 - 13s - loss: 0.0279 - accuracy: 0.9915 - 13s/epoch - 7ms/step\n",
            "Epoch 11/20\n",
            "1875/1875 - 13s - loss: 0.0259 - accuracy: 0.9921 - 13s/epoch - 7ms/step\n",
            "Epoch 12/20\n",
            "1875/1875 - 13s - loss: 0.0259 - accuracy: 0.9918 - 13s/epoch - 7ms/step\n",
            "Epoch 13/20\n",
            "1875/1875 - 13s - loss: 0.0215 - accuracy: 0.9934 - 13s/epoch - 7ms/step\n",
            "Epoch 14/20\n",
            "1875/1875 - 13s - loss: 0.0229 - accuracy: 0.9927 - 13s/epoch - 7ms/step\n",
            "Epoch 15/20\n",
            "1875/1875 - 13s - loss: 0.0209 - accuracy: 0.9936 - 13s/epoch - 7ms/step\n",
            "Epoch 16/20\n",
            "1875/1875 - 14s - loss: 0.0200 - accuracy: 0.9936 - 14s/epoch - 7ms/step\n",
            "Epoch 17/20\n",
            "1875/1875 - 13s - loss: 0.0183 - accuracy: 0.9941 - 13s/epoch - 7ms/step\n",
            "Epoch 18/20\n",
            "1875/1875 - 13s - loss: 0.0164 - accuracy: 0.9948 - 13s/epoch - 7ms/step\n",
            "Epoch 19/20\n",
            "1875/1875 - 13s - loss: 0.0172 - accuracy: 0.9948 - 13s/epoch - 7ms/step\n",
            "Epoch 20/20\n",
            "1875/1875 - 13s - loss: 0.0153 - accuracy: 0.9952 - 13s/epoch - 7ms/step\n",
            "313/313 [==============================] - 2s 5ms/step - loss: 0.0303 - accuracy: 0.9909\n"
          ]
        },
        {
          "output_type": "stream",
          "name": "stderr",
          "text": [
            "WARNING:absl:Found untraced functions such as _jit_compiled_convolution_op, _jit_compiled_convolution_op, _jit_compiled_convolution_op while saving (showing 3 of 3). These functions will not be directly callable after loading.\n"
          ]
        }
      ],
      "source": [
        "import tensorflow as tf\n",
        "import tensorflow_datasets as tfds\n",
        "import tensorflow_addons as tfa \n",
        "import math\n",
        "from keras import layers \n",
        "from tensorflow import keras\n",
        "\n",
        "(ds_train, ds_test), ds_info = tfds.load(\n",
        "    \"mnist\", \n",
        "    split = [\"train\", \"test\"],\n",
        "    shuffle_files = False,\n",
        "    as_supervised = True, \n",
        "    with_info = True,  \n",
        "    )\n",
        "\n",
        "@tf.function\n",
        "def normalize_img(image, label):\n",
        "    return tf.cast(image, tf.float32) / 255.0, label \n",
        "\n",
        "@tf.function\n",
        "def rotate(img, max_degrees=25):\n",
        "    degrees = tf.random.uniform([], -max_degrees, max_degrees,dtype=tf.float32)\n",
        "    img = tfa.image.rotate(img, degrees*math.pi / 180, interpolation=\"BILINEAR\")\n",
        "    return img\n",
        "\n",
        "@tf.function\n",
        "def augment(image, label):\n",
        "    image = tf.image.resize(image, size=[28, 28])\n",
        "    image = rotate(image)\n",
        "    \n",
        "    # coloring of image \n",
        "    image = tf.image.random_brightness(image, max_delta=0.2)\n",
        "    image = tf.image.random_contrast(image, lower=0.5, upper=1.5)\n",
        "    return image, label\n",
        "\n",
        "AUTOTUNE = tf.data.experimental.AUTOTUNE\n",
        "BATCH_SIZE = 32\n",
        "\n",
        "ds_train = ds_train.cache()\n",
        "ds_train = ds_train.shuffle(ds_info.splits[\"train\"].num_examples)\n",
        "ds_train = ds_train.map(normalize_img, num_parallel_calls=AUTOTUNE)\n",
        "ds_train = ds_train.map(augment, num_parallel_calls=AUTOTUNE)\n",
        "ds_train = ds_train.batch(BATCH_SIZE)\n",
        "ds_train = ds_train.prefetch(AUTOTUNE)\n",
        "\n",
        "ds_test = ds_test.map(normalize_img, num_parallel_calls=AUTOTUNE)\n",
        "ds_test = ds_test.batch(BATCH_SIZE)\n",
        "ds_test = ds_test.prefetch(AUTOTUNE)\n",
        "\n",
        "def my_model():\n",
        "    inputs = keras.Input(shape=(28, 28, 1))\n",
        "    x = layers.Conv2D(32, 3)(inputs)\n",
        "    x = layers.BatchNormalization()(x)\n",
        "    x = keras.activations.relu(x)\n",
        "    x = layers.MaxPooling2D()(x)\n",
        "    x = layers.Conv2D(64, 3)(x)\n",
        "    x = layers.BatchNormalization()(x)\n",
        "    x = keras.activations.relu(x)\n",
        "    x = layers.MaxPooling2D()(x)\n",
        "    x = layers.Conv2D(128, 3)(x)\n",
        "    x = layers.BatchNormalization()(x)\n",
        "    x = keras.activations.relu(x)\n",
        "    x = layers.Flatten()(x) \n",
        "    x = layers.Dense(64, activation=\"relu\")(x)\n",
        "    outputs = layers.Dense(10, activation=\"softmax\")(x)\n",
        "    return keras.Model(inputs=inputs, outputs=outputs)\n",
        "\n",
        "model = my_model()\n",
        "# compile model \n",
        "model.compile(\n",
        "    loss=keras.losses.SparseCategoricalCrossentropy(from_logits=False), \n",
        "    optimizer=keras.optimizers.Adam(learning_rate=1e-4),\n",
        "    metrics=[\"accuracy\"],\n",
        ")\n",
        "# model.fit\n",
        "model.fit(ds_train, epochs=20, verbose=2)\n",
        "# model.evaluate\n",
        "model.evaluate(ds_test)\n",
        "# after training convert to tflite model\n",
        "model.save(\"model\")"
      ]
    },
    {
      "cell_type": "code",
      "source": [
        "!zip -r /content/model.zip /content/model"
      ],
      "metadata": {
        "colab": {
          "base_uri": "https://localhost:8080/"
        },
        "id": "kIa3eJPy_BdQ",
        "outputId": "a7d2ade0-6e57-4162-f870-d1e13aba69f8"
      },
      "execution_count": 7,
      "outputs": [
        {
          "output_type": "stream",
          "name": "stdout",
          "text": [
            "  adding: content/model/ (stored 0%)\n",
            "  adding: content/model/assets/ (stored 0%)\n",
            "  adding: content/model/saved_model.pb (deflated 89%)\n",
            "  adding: content/model/fingerprint.pb (stored 0%)\n",
            "  adding: content/model/variables/ (stored 0%)\n",
            "  adding: content/model/variables/variables.data-00000-of-00001 (deflated 9%)\n",
            "  adding: content/model/variables/variables.index (deflated 67%)\n",
            "  adding: content/model/keras_metadata.pb (deflated 92%)\n"
          ]
        }
      ]
    },
    {
      "cell_type": "code",
      "source": [
        "import tensorflow as tf \n",
        "\n",
        "saved_dir = \"/content/model\"\n",
        "converter = tf.lite.TFLiteConverter.from_saved_model(saved_dir)\n",
        "converter.optimizations = [tf.lite.Optimize.DEFAULT]\n",
        "converter.target_spec.supported_types = [tf.float16]\n",
        "model_lite = converter.convert()\n",
        "\n",
        "with open(\"model.tflite\", \"wb\") as f:\n",
        "    f.write(model_lite)"
      ],
      "metadata": {
        "id": "R4cKNTkd_Rxh"
      },
      "execution_count": 9,
      "outputs": []
    },
    {
      "cell_type": "code",
      "source": [],
      "metadata": {
        "id": "kjCAuLbSF3q5"
      },
      "execution_count": null,
      "outputs": []
    }
  ]
}