{
  "cells": [
    {
      "cell_type": "markdown",
      "metadata": {
        "colab_type": "text",
        "id": "view-in-github"
      },
      "source": [
        "<a href=\"https://colab.research.google.com/github/Duks31/google-colab-code/blob/main/tensor.ipynb\" target=\"_parent\"><img src=\"https://colab.research.google.com/assets/colab-badge.svg\" alt=\"Open In Colab\"/></a>"
      ]
    },
    {
      "cell_type": "code",
      "execution_count": 19,
      "metadata": {
        "id": "BZ_VCoQ5m9l7"
      },
      "outputs": [],
      "source": [
        "import tensorflow as tf"
      ]
    },
    {
      "cell_type": "code",
      "execution_count": 20,
      "metadata": {
        "id": "DJj80UpwnmiJ"
      },
      "outputs": [],
      "source": [
        "mnist = tf.keras.datasets.mnist\n",
        "\n",
        "(x_train, y_train), (x_test, y_test) = mnist.load_data()\n",
        "x_train, x_test = x_train / 255.0, x_test / 255.0"
      ]
    },
    {
      "cell_type": "code",
      "execution_count": 21,
      "metadata": {
        "id": "YwVhoBa5obWb"
      },
      "outputs": [],
      "source": [
        "model = tf.keras.models.Sequential([\n",
        "    tf.keras.layers.Flatten(input_shape = (28, 28)),\n",
        "    tf.keras.layers.Dense(128, activation = 'relu'),\n",
        "    tf.keras.layers.Dropout(0.2),\n",
        "    tf.keras.layers.Dense(10)\n",
        "])"
      ]
    },
    {
      "cell_type": "code",
      "execution_count": 22,
      "metadata": {
        "colab": {
          "base_uri": "https://localhost:8080/"
        },
        "id": "rg82f4eopAgl",
        "outputId": "6cc67cdd-1090-4654-c099-96d8be3e8e55"
      },
      "outputs": [
        {
          "data": {
            "text/plain": [
              "array([[ 0.28975835,  0.09281549, -0.9486324 , -0.43243802,  0.22236463,\n",
              "         0.09741817,  0.10479341,  0.19289258, -0.35649762,  0.08207411]],\n",
              "      dtype=float32)"
            ]
          },
          "execution_count": 22,
          "metadata": {},
          "output_type": "execute_result"
        }
      ],
      "source": [
        "predictions = model(x_train[:1]).numpy()\n",
        "predictions"
      ]
    },
    {
      "cell_type": "code",
      "execution_count": 23,
      "metadata": {
        "colab": {
          "base_uri": "https://localhost:8080/"
        },
        "id": "Q7OK25qipacM",
        "outputId": "e37bc077-16d1-4241-fc22-6a2b0aa9984f"
      },
      "outputs": [
        {
          "data": {
            "text/plain": [
              "array([[0.13455503, 0.11050164, 0.03900081, 0.06535127, 0.12578568,\n",
              "        0.11101142, 0.11183317, 0.12213261, 0.07050737, 0.10932106]],\n",
              "      dtype=float32)"
            ]
          },
          "execution_count": 23,
          "metadata": {},
          "output_type": "execute_result"
        }
      ],
      "source": [
        "tf.nn.softmax(predictions).numpy()"
      ]
    },
    {
      "cell_type": "code",
      "execution_count": 24,
      "metadata": {
        "id": "le4cpmecpha9"
      },
      "outputs": [],
      "source": [
        "loss_fn = tf.keras.losses.SparseCategoricalCrossentropy(from_logits = True)"
      ]
    },
    {
      "cell_type": "code",
      "execution_count": 25,
      "metadata": {
        "colab": {
          "base_uri": "https://localhost:8080/"
        },
        "id": "913zTPIRpx9h",
        "outputId": "5a851af3-0ac3-431e-f249-b0e25b69ea7d"
      },
      "outputs": [
        {
          "data": {
            "text/plain": [
              "2.1981223"
            ]
          },
          "execution_count": 25,
          "metadata": {},
          "output_type": "execute_result"
        }
      ],
      "source": [
        "loss_fn(y_train[:1], predictions).numpy()\n"
      ]
    },
    {
      "cell_type": "code",
      "execution_count": 26,
      "metadata": {
        "id": "utgN-gQRp9MN"
      },
      "outputs": [],
      "source": [
        "model.compile(optimizer= 'adam', \n",
        "              loss = loss_fn, \n",
        "              metrics = ['accuracy'])\n"
      ]
    },
    {
      "cell_type": "code",
      "execution_count": 27,
      "metadata": {
        "colab": {
          "base_uri": "https://localhost:8080/"
        },
        "id": "4Yn6uaZhqIAj",
        "outputId": "70c4e8c3-ed89-473c-df81-345dce4dafaa"
      },
      "outputs": [
        {
          "name": "stdout",
          "output_type": "stream",
          "text": [
            "Epoch 1/5\n",
            "1875/1875 [==============================] - 7s 3ms/step - loss: 0.2907 - accuracy: 0.9153\n",
            "Epoch 2/5\n",
            "1875/1875 [==============================] - 5s 3ms/step - loss: 0.1395 - accuracy: 0.9588\n",
            "Epoch 3/5\n",
            "1875/1875 [==============================] - 5s 3ms/step - loss: 0.1038 - accuracy: 0.9682\n",
            "Epoch 4/5\n",
            "1875/1875 [==============================] - 6s 3ms/step - loss: 0.0851 - accuracy: 0.9736\n",
            "Epoch 5/5\n",
            "1875/1875 [==============================] - 5s 3ms/step - loss: 0.0736 - accuracy: 0.9770\n"
          ]
        },
        {
          "data": {
            "text/plain": [
              "<keras.callbacks.History at 0x7f9664263f40>"
            ]
          },
          "execution_count": 27,
          "metadata": {},
          "output_type": "execute_result"
        }
      ],
      "source": [
        "model.fit(x_train, y_train, epochs = 5)"
      ]
    },
    {
      "cell_type": "code",
      "execution_count": 28,
      "metadata": {
        "colab": {
          "base_uri": "https://localhost:8080/"
        },
        "id": "9v1sOjXNqSUX",
        "outputId": "f49d9822-022d-422d-f4fa-dbd207ae85aa"
      },
      "outputs": [
        {
          "name": "stdout",
          "output_type": "stream",
          "text": [
            "313/313 - 1s - loss: 0.0717 - accuracy: 0.9790 - 1s/epoch - 3ms/step\n"
          ]
        },
        {
          "data": {
            "text/plain": [
              "[0.07173135131597519, 0.9789999723434448]"
            ]
          },
          "execution_count": 28,
          "metadata": {},
          "output_type": "execute_result"
        }
      ],
      "source": [
        "model.evaluate(x_test,  y_test, verbose=2)"
      ]
    },
    {
      "cell_type": "code",
      "execution_count": 29,
      "metadata": {
        "id": "6wm4SmPotORo"
      },
      "outputs": [],
      "source": [
        "probability_model = tf.keras.Sequential([\n",
        "  model,\n",
        "  tf.keras.layers.Softmax()\n",
        "])"
      ]
    },
    {
      "cell_type": "code",
      "execution_count": 30,
      "metadata": {
        "colab": {
          "base_uri": "https://localhost:8080/"
        },
        "id": "u7bq7Vx3tWU7",
        "outputId": "9c1e766e-f9e7-449a-c003-08a0584414b8"
      },
      "outputs": [
        {
          "data": {
            "text/plain": [
              "<tf.Tensor: shape=(5, 10), dtype=float32, numpy=\n",
              "array([[4.5350177e-07, 2.6529429e-07, 3.6996146e-06, 7.2370764e-05,\n",
              "        2.7462052e-11, 4.4535713e-07, 3.1079341e-13, 9.9990690e-01,\n",
              "        2.2358358e-06, 1.3568696e-05],\n",
              "       [6.8776478e-09, 5.1192983e-05, 9.9994421e-01, 1.1712347e-06,\n",
              "        2.2079114e-15, 1.1512254e-07, 1.9978322e-06, 3.2306486e-12,\n",
              "        1.2441348e-06, 1.2992789e-12],\n",
              "       [2.7669188e-07, 9.8835480e-01, 1.4923946e-03, 2.7738646e-05,\n",
              "        4.8614782e-04, 1.8513094e-05, 8.6629771e-05, 8.3351489e-03,\n",
              "        1.1967564e-03, 1.6057579e-06],\n",
              "       [9.9999070e-01, 4.4089804e-10, 6.8305153e-06, 9.7183408e-09,\n",
              "        7.3882248e-08, 1.2538193e-06, 4.5896957e-07, 6.1833128e-07,\n",
              "        7.5573237e-10, 1.4307702e-07],\n",
              "       [1.0611689e-05, 1.5404688e-11, 1.6572346e-06, 6.5866255e-09,\n",
              "        9.9730825e-01, 3.1987523e-07, 1.1657634e-06, 3.2979289e-05,\n",
              "        1.4204842e-07, 2.6449293e-03]], dtype=float32)>"
            ]
          },
          "execution_count": 30,
          "metadata": {},
          "output_type": "execute_result"
        }
      ],
      "source": [
        "probability_model(x_test[:5])"
      ]
    }
  ],
  "metadata": {
    "accelerator": "GPU",
    "colab": {
      "authorship_tag": "ABX9TyOLPYwHABQhKG7qA1HaTVtx",
      "include_colab_link": true,
      "provenance": []
    },
    "gpuClass": "standard",
    "kernelspec": {
      "display_name": "Python 3.10.7 64-bit",
      "language": "python",
      "name": "python3"
    },
    "language_info": {
      "name": "python",
      "version": "3.10.7"
    },
    "vscode": {
      "interpreter": {
        "hash": "3369b3a75f9b9f773b7395262b1c35dbdb20bc837bfadc97feb5ad4b64f8b5a0"
      }
    }
  },
  "nbformat": 4,
  "nbformat_minor": 0
}
