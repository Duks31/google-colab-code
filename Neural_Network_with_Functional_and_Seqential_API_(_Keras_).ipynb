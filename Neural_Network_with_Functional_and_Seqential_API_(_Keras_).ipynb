{
  "cells": [
    {
      "cell_type": "markdown",
      "metadata": {
        "colab_type": "text",
        "id": "view-in-github"
      },
      "source": [
        "<a href=\"https://colab.research.google.com/github/Duks31/google-colab-code/blob/main/Neural_Network_with_Functional_and_Seqential_API_(_Keras_).ipynb\" target=\"_parent\"><img src=\"https://colab.research.google.com/assets/colab-badge.svg\" alt=\"Open In Colab\"/></a>"
      ]
    },
    {
      "cell_type": "code",
      "execution_count": 2,
      "metadata": {
        "id": "OCHyxRjREdpw"
      },
      "outputs": [],
      "source": [
        "import tensorflow as tf \n",
        "from tensorflow import keras \n",
        "from tensorflow.keras import layers \n",
        "from tensorflow.keras.datasets import mnist \n",
        "   "
      ]
    },
    {
      "cell_type": "code",
      "execution_count": 3,
      "metadata": {
        "colab": {
          "base_uri": "https://localhost:8080/"
        },
        "id": "fVwKSwH5CI-R",
        "outputId": "cd0679bc-daae-4c9b-8ddc-20809643f356"
      },
      "outputs": [
        {
          "name": "stdout",
          "output_type": "stream",
          "text": [
            "Downloading data from https://storage.googleapis.com/tensorflow/tf-keras-datasets/mnist.npz\n",
            "11490434/11490434 [==============================] - 0s 0us/step\n"
          ]
        }
      ],
      "source": [
        "(x_train, y_train), (x_test, y_test) = mnist.load_data()"
      ]
    },
    {
      "cell_type": "code",
      "execution_count": 4,
      "metadata": {
        "id": "oM3kJEysDElH"
      },
      "outputs": [],
      "source": [
        "x_train = x_train.reshape(-1, 28*28).astype(\"float32\")/ 255.0 # flatten out x_train\n",
        "x_test = x_test.reshape(-1, 28*28).astype(\"float32\")/ 255.0 # flatten out x_test"
      ]
    },
    {
      "cell_type": "code",
      "execution_count": null,
      "metadata": {
        "id": "E0H-5n2mDwwI"
      },
      "outputs": [],
      "source": [
        "# Sequential  API (Very convienient, not very flexile)\n",
        "\n",
        "model = keras.Sequential([\n",
        "     layers.Dense(512, activation='relu'),\n",
        "     layers.Dense(256, activation = 'relu'), \n",
        "     layers.Dense(10) \n",
        " ])\n",
        "\n",
        "model.compile(\n",
        "    loss = keras.losses.SparseCategoricalCrossentropy(from_logits = True), \n",
        "    optimizer = keras.optimizers.Adam(learning_rate = 0.001), \n",
        "    metrics = [\"accuracy\"]\n",
        ")\n",
        "\n",
        "model.fit(x_train, y_train, batch_size = 32, epochs = 5, verbose = 2)\n",
        "model.evaluate(x_test, y_test, batch_size = 32, verbose = 2)\n",
        "\n",
        "# Another way to do use Sequential API \n",
        "# model = keras.Sequential()\n",
        "# model.add(keras.Input(shape=(28*28))\n",
        "# model.add(layers.Dense(512, activation = 'relu'))\n",
        "# model.add(layers.Dense(256, activation = 'relu'))\n",
        "# model.add(layers.Dense(10))\n",
        "\n"
      ]
    },
    {
      "cell_type": "code",
      "execution_count": null,
      "metadata": {
        "id": "TUSXtAv8FeWh"
      },
      "outputs": [],
      "source": [
        "print(model.summary())"
      ]
    },
    {
      "cell_type": "code",
      "execution_count": 7,
      "metadata": {
        "colab": {
          "base_uri": "https://localhost:8080/"
        },
        "id": "e3Dt7U_sHJTL",
        "outputId": "a128da35-c49e-4467-8bee-fa7a99ca5a41"
      },
      "outputs": [
        {
          "name": "stdout",
          "output_type": "stream",
          "text": [
            "Epoch 1/20\n",
            "1875/1875 - 6s - loss: 0.1851 - accuracy: 0.9438 - 6s/epoch - 3ms/step\n",
            "Epoch 2/20\n",
            "1875/1875 - 4s - loss: 0.0805 - accuracy: 0.9748 - 4s/epoch - 2ms/step\n",
            "Epoch 3/20\n",
            "1875/1875 - 5s - loss: 0.0542 - accuracy: 0.9830 - 5s/epoch - 3ms/step\n",
            "Epoch 4/20\n",
            "1875/1875 - 4s - loss: 0.0421 - accuracy: 0.9863 - 4s/epoch - 2ms/step\n",
            "Epoch 5/20\n",
            "1875/1875 - 5s - loss: 0.0339 - accuracy: 0.9891 - 5s/epoch - 3ms/step\n",
            "Epoch 6/20\n",
            "1875/1875 - 4s - loss: 0.0262 - accuracy: 0.9913 - 4s/epoch - 2ms/step\n",
            "Epoch 7/20\n",
            "1875/1875 - 4s - loss: 0.0245 - accuracy: 0.9920 - 4s/epoch - 2ms/step\n",
            "Epoch 8/20\n",
            "1875/1875 - 5s - loss: 0.0187 - accuracy: 0.9941 - 5s/epoch - 3ms/step\n",
            "Epoch 9/20\n",
            "1875/1875 - 4s - loss: 0.0203 - accuracy: 0.9938 - 4s/epoch - 2ms/step\n",
            "Epoch 10/20\n",
            "1875/1875 - 4s - loss: 0.0183 - accuracy: 0.9946 - 4s/epoch - 2ms/step\n",
            "Epoch 11/20\n",
            "1875/1875 - 5s - loss: 0.0151 - accuracy: 0.9952 - 5s/epoch - 3ms/step\n",
            "Epoch 12/20\n",
            "1875/1875 - 4s - loss: 0.0154 - accuracy: 0.9952 - 4s/epoch - 2ms/step\n",
            "Epoch 13/20\n",
            "1875/1875 - 5s - loss: 0.0144 - accuracy: 0.9958 - 5s/epoch - 3ms/step\n",
            "Epoch 14/20\n",
            "1875/1875 - 4s - loss: 0.0155 - accuracy: 0.9960 - 4s/epoch - 2ms/step\n",
            "Epoch 15/20\n",
            "1875/1875 - 4s - loss: 0.0117 - accuracy: 0.9966 - 4s/epoch - 2ms/step\n",
            "Epoch 16/20\n",
            "1875/1875 - 5s - loss: 0.0123 - accuracy: 0.9966 - 5s/epoch - 3ms/step\n",
            "Epoch 17/20\n",
            "1875/1875 - 4s - loss: 0.0118 - accuracy: 0.9966 - 4s/epoch - 2ms/step\n",
            "Epoch 18/20\n",
            "1875/1875 - 4s - loss: 0.0106 - accuracy: 0.9968 - 4s/epoch - 2ms/step\n",
            "Epoch 19/20\n",
            "1875/1875 - 5s - loss: 0.0096 - accuracy: 0.9975 - 5s/epoch - 3ms/step\n",
            "Epoch 20/20\n",
            "1875/1875 - 4s - loss: 0.0115 - accuracy: 0.9970 - 4s/epoch - 2ms/step\n",
            "313/313 - 1s - loss: 0.1309 - accuracy: 0.9799 - 775ms/epoch - 2ms/step\n"
          ]
        },
        {
          "data": {
            "text/plain": [
              "[0.1309065967798233, 0.9799000024795532]"
            ]
          },
          "execution_count": 7,
          "metadata": {},
          "output_type": "execute_result"
        }
      ],
      "source": [
        "# Functional API ( more flexible )\n",
        "\n",
        "input = keras.Input(shape = (28*28))\n",
        "x = layers.Dense(512, activation = 'relu', name = 'first_layer')(input)\n",
        "x = layers.Dense(256, activation='relu', name = 'second_layer')(x)\n",
        "output = layers.Dense(10, activation = 'softmax')(x)\n",
        "\n",
        "model = keras.Model(inputs=input, outputs=output) \n",
        "\n",
        "model.compile(\n",
        "    loss = keras.losses.SparseCategoricalCrossentropy(),\n",
        "    optimizer = keras.optimizers.Adam(learning_rate = 0.001),\n",
        "    metrics = [\"accuracy\"], \n",
        "    )\n",
        "\n",
        "model.fit(x_train, y_train, batch_size = 32, epochs = 20, verbose = 2)\n",
        "model.evaluate(x_test, y_test, batch_size = 32, verbose = 2)\n"
      ]
    },
    {
      "cell_type": "code",
      "execution_count": 6,
      "metadata": {
        "colab": {
          "base_uri": "https://localhost:8080/"
        },
        "id": "bdO57zyyIy2s",
        "outputId": "f301a211-03e3-407e-8c8f-5dbef50a9ba7"
      },
      "outputs": [
        {
          "name": "stdout",
          "output_type": "stream",
          "text": [
            "Model: \"model\"\n",
            "_________________________________________________________________\n",
            " Layer (type)                Output Shape              Param #   \n",
            "=================================================================\n",
            " input_1 (InputLayer)        [(None, 784)]             0         \n",
            "                                                                 \n",
            " first_layer (Dense)         (None, 512)               401920    \n",
            "                                                                 \n",
            " second_layer (Dense)        (None, 256)               131328    \n",
            "                                                                 \n",
            " dense (Dense)               (None, 10)                2570      \n",
            "                                                                 \n",
            "=================================================================\n",
            "Total params: 535,818\n",
            "Trainable params: 535,818\n",
            "Non-trainable params: 0\n",
            "_________________________________________________________________\n",
            "None\n"
          ]
        }
      ],
      "source": [
        "print(model.summary())"
      ]
    },
    {
      "cell_type": "code",
      "execution_count": null,
      "metadata": {
        "id": "kPPtqGlnTJgy"
      },
      "outputs": [],
      "source": []
    }
  ],
  "metadata": {
    "accelerator": "GPU",
    "colab": {
      "authorship_tag": "ABX9TyOieWxHqG3i1c3RmOtmJRV9",
      "include_colab_link": true,
      "provenance": []
    },
    "gpuClass": "standard",
    "kernelspec": {
      "display_name": "Python 3.10.7 64-bit",
      "language": "python",
      "name": "python3"
    },
    "language_info": {
      "name": "python",
      "version": "3.10.7"
    },
    "vscode": {
      "interpreter": {
        "hash": "3369b3a75f9b9f773b7395262b1c35dbdb20bc837bfadc97feb5ad4b64f8b5a0"
      }
    }
  },
  "nbformat": 4,
  "nbformat_minor": 0
}
